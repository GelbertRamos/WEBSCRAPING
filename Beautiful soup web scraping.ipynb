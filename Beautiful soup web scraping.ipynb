{
 "cells": [
  {
   "cell_type": "code",
   "execution_count": 1,
   "id": "89f177c7",
   "metadata": {},
   "outputs": [
    {
     "name": "stdout",
     "output_type": "stream",
     "text": [
      "['University of Cambridge', 'University of Oxford', 'London School of Economics', 'University of St Andrews', 'University of Bath']\n"
     ]
    }
   ],
   "source": [
    "import requests\n",
    "from bs4 import BeautifulSoup\n",
    "\n",
    "url = \"https://en.wikipedia.org/wiki/Rankings_of_universities_in_the_United_Kingdom\"\n",
    "\n",
    "response = requests.get(url)\n",
    "content = response.text\n",
    "soup = BeautifulSoup(content, 'html.parser')\n",
    "td = soup.find_all('td')\n",
    "universities = []\n",
    "for element in td:\n",
    "    if element.find('a'):\n",
    "        universities.append(element.find('a').text)\n",
    "universities = universities[0:17:4]\n",
    "print(universities)"
   ]
  },
  {
   "cell_type": "code",
   "execution_count": 1,
   "id": "1ef83cab",
   "metadata": {},
   "outputs": [
    {
     "name": "stdout",
     "output_type": "stream",
     "text": [
      "University: 1, Ranking: University of Cambridge, Location: 11\n",
      "University: 2, Ranking: University of Oxford, Location: 12\n",
      "University: 3, Ranking: London School of Economics, Location: 13\n",
      "University: 4, Ranking: University of St Andrews, Location: 14\n",
      "University: 5, Ranking: University of Bath, Location: 15\n",
      "University: 6, Ranking: Imperial College London, Location: 16\n",
      "University: 7, Ranking: Loughborough University, Location: 17=\n",
      "University: 8, Ranking: Durham University, Location: 17=\n",
      "University: 9, Ranking: University College London, Location: 19\n",
      "University: 10, Ranking: Lancaster University, Location: 20\n"
     ]
    }
   ],
   "source": [
    "import requests\n",
    "from bs4 import BeautifulSoup\n",
    "\n",
    "url = \"https://en.wikipedia.org/wiki/Rankings_of_universities_in_the_United_Kingdom\"\n",
    "\n",
    "# Send a GET request to the URL\n",
    "response = requests.get(url)\n",
    "content = response.text\n",
    "\n",
    "# Parse HTML content using BeautifulSoup\n",
    "soup = BeautifulSoup(content, 'html.parser')\n",
    "\n",
    "# Find all table rows (tr) in the table body\n",
    "table_body = soup.find('tbody')\n",
    "rows = table_body.find_all('tr')\n",
    "\n",
    "# Initialize lists to store university information\n",
    "universities = []\n",
    "rankings = []\n",
    "locations = []\n",
    "\n",
    "# Iterate through each table row\n",
    "for row in rows:\n",
    "    # Find all table cells (td) in the row\n",
    "    cells = row.find_all('td')\n",
    "\n",
    "    # Check if the row has at least 3 cells (University, Ranking, Location)\n",
    "    if len(cells) >= 3:\n",
    "        # Extract and append university name, ranking, and location to respective lists\n",
    "        university = cells[0].text.strip()\n",
    "        ranking = cells[1].text.strip()\n",
    "        location = cells[2].text.strip()\n",
    "\n",
    "        universities.append(university)\n",
    "        rankings.append(ranking)\n",
    "        locations.append(location)\n",
    "\n",
    "# Print the extracted information\n",
    "for i in range(len(universities)):\n",
    "    print(f\"University: {universities[i]}, Ranking: {rankings[i]}, Location: {locations[i]}\")\n"
   ]
  },
  {
   "cell_type": "code",
   "execution_count": null,
   "id": "b6b8bec1",
   "metadata": {},
   "outputs": [],
   "source": []
  }
 ],
 "metadata": {
  "kernelspec": {
   "display_name": "Python 3 (ipykernel)",
   "language": "python",
   "name": "python3"
  },
  "language_info": {
   "codemirror_mode": {
    "name": "ipython",
    "version": 3
   },
   "file_extension": ".py",
   "mimetype": "text/x-python",
   "name": "python",
   "nbconvert_exporter": "python",
   "pygments_lexer": "ipython3",
   "version": "3.11.3"
  }
 },
 "nbformat": 4,
 "nbformat_minor": 5
}
